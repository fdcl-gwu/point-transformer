{
 "cells": [
  {
   "cell_type": "markdown",
   "metadata": {},
   "source": [
    "## Documentation of Point Transformer modifications"
   ]
  },
  {
   "cell_type": "markdown",
   "metadata": {},
   "source": [
    "#### Gazebo Data Structure\n",
    "05.02.2025 \n",
    "- 9988 clouds w/poses\n",
    "- gazebo_pc_record_full_12_42_labeled_1024\n",
    "    - clouds/\n",
    "    - poses/\n",
    "\n",
    "    Up/Downsampling used:\n",
    "    - clouds with < 1024: random duplication with slight gaussian noise\n",
    "    - clouds with > 1024: FPS (takes a long time)\n",
    "    - not removing any clouds"
   ]
  },
  {
   "cell_type": "markdown",
   "metadata": {},
   "source": [
    "#### 1. train_pose.py\n",
    "Dataloader: SimNet or ScanNet\n",
    "\n",
    "#### 2. pointtransformer_pose.py\n",
    "```self.radius = 1.5```\n",
    "```input_dim```: change based on number of one-hot encoded classes used"
   ]
  },
  {
   "cell_type": "code",
   "execution_count": null,
   "metadata": {},
   "outputs": [],
   "source": [
    "# uniform=False means our .ply files are already downsampled to 1024 points\n"
   ]
  },
  {
   "cell_type": "markdown",
   "metadata": {},
   "source": [
    "Process: \n",
    "1. train_pose.py\n",
    "    - pointtransformer_pose.py: contains PoseLoss()\n",
    "        - quaternion_to_rotation_matrix() assumes wxyz format as of 12.02.25\n",
    "2. test_pose.py\n",
    "    - manually specify best model saved during training to use for inference\n",
    "    - writes results as .json in XYZW format\n",
    "3. overlay_pose_estimate.py (MAC)\n",
    "    - reads from json and for each cloud file we used in training set (which the .json stores the pose prediction for), overlays the cloud on the stl model for visual evaluation."
   ]
  },
  {
   "cell_type": "markdown",
   "metadata": {},
   "source": [
    "QUATERNION FORMAT: WXYZ or XYZW: 12.02.25\n",
    "- gt stored as WXYZ quaterion\n",
    "- model learns angle-axis\n",
    "    - within loss function, its converted to rotation matrix to compare with ground truth (also converted to matrix)\n",
    "- NOTE: during inference (test_pose.py), we write pred_quat as XYZW to results.json!!\n",
    "    -  now writes ground truth gt_quat to be XYZW to results.json\n",
    "- on Mac, in overlay_pose_estimate.py, reads from results.json which has all XYZW format.\n",
    "\n",
    "<!-- TODO: ground truth should be as XYZW too -->"
   ]
  }
 ],
 "metadata": {
  "kernelspec": {
   "display_name": "point-transformer",
   "language": "python",
   "name": "python3"
  },
  "language_info": {
   "name": "python",
   "version": "3.9.21"
  }
 },
 "nbformat": 4,
 "nbformat_minor": 2
}
