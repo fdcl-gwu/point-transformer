{
 "cells": [
  {
   "cell_type": "markdown",
   "metadata": {},
   "source": [
    "## Documentation of Point Transformer modifications"
   ]
  },
  {
   "cell_type": "markdown",
   "metadata": {},
   "source": [
    "#### Gazebo Data Structure\n",
    "05.02.2025 \n",
    "- 9988 clouds w/poses\n",
    "- gazebo_pc_record_full_12_42_labeled_1024\n",
    "    - clouds/\n",
    "    - poses/\n",
    "\n",
    "    Up/Downsampling used:\n",
    "    - clouds with < 1024: random duplication with slight gaussian noise\n",
    "    - clouds with > 1024: FPS (takes a long time)\n",
    "    - not removing any clouds"
   ]
  },
  {
   "cell_type": "markdown",
   "metadata": {},
   "source": [
    "#### 1. train_pose.py\n",
    "Dataloader: SimNet or ScanNet\n",
    "\n",
    "#### 2. pointtransformer_pose.py\n",
    "```self.radius = 1.5```\n",
    "```input_dim```: change based on number of one-hot encoded classes used"
   ]
  },
  {
   "cell_type": "code",
   "execution_count": null,
   "metadata": {},
   "outputs": [],
   "source": [
    "# uniform=False means our .ply files are already downsampled to 1024 points\n"
   ]
  },
  {
   "cell_type": "code",
   "execution_count": null,
   "metadata": {},
   "outputs": [],
   "source": []
  }
 ],
 "metadata": {
  "kernelspec": {
   "display_name": "point-transformer",
   "language": "python",
   "name": "python3"
  },
  "language_info": {
   "name": "python",
   "version": "3.9.21"
  }
 },
 "nbformat": 4,
 "nbformat_minor": 2
}
